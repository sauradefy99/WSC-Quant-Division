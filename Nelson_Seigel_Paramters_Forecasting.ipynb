{
  "nbformat": 4,
  "nbformat_minor": 0,
  "metadata": {
    "kernelspec": {
      "display_name": "Python 3",
      "language": "python",
      "name": "python3"
    },
    "language_info": {
      "codemirror_mode": {
        "name": "ipython",
        "version": 3
      },
      "file_extension": ".py",
      "mimetype": "text/x-python",
      "name": "python",
      "nbconvert_exporter": "python",
      "pygments_lexer": "ipython3",
      "version": "3.7.0"
    },
    "colab": {
      "name": "Nelson Seigel Paramters Forecasting.ipynb",
      "provenance": [],
      "collapsed_sections": []
    }
  },
  "cells": [
    {
      "cell_type": "code",
      "metadata": {
        "id": "21TzFzdIU_so",
        "colab_type": "code",
        "outputId": "0c87a1fd-a676-4f77-ea3f-00e95d57ad9d",
        "colab": {
          "base_uri": "https://localhost:8080/",
          "height": 703
        }
      },
      "source": [
        "#importing necessary libraries\n",
        "\n",
        "import pandas as pd\n",
        "import numpy as np\n",
        "import matplotlib.pyplot as plt\n",
        "from numpy import exp\n",
        "\n",
        "%matplotlib inline\n",
        "\n",
        "!pip install quandl\n",
        "import quandl"
      ],
      "execution_count": 0,
      "outputs": [
        {
          "output_type": "stream",
          "text": [
            "Collecting quandl\n",
            "  Downloading https://files.pythonhosted.org/packages/12/64/6314547cb01fa75697ddba6d6d43a9f1d023c1730ffc6abf3db7a0c89222/Quandl-3.4.8-py2.py3-none-any.whl\n",
            "Requirement already satisfied: requests>=2.7.0 in /usr/local/lib/python3.6/dist-packages (from quandl) (2.21.0)\n",
            "Requirement already satisfied: python-dateutil in /usr/local/lib/python3.6/dist-packages (from quandl) (2.6.1)\n",
            "Collecting more-itertools<=5.0.0\n",
            "\u001b[?25l  Downloading https://files.pythonhosted.org/packages/a4/a6/42f17d065bda1fac255db13afc94c93dbfb64393eae37c749b4cb0752fc7/more_itertools-5.0.0-py3-none-any.whl (52kB)\n",
            "\u001b[K     |████████████████████████████████| 61kB 4.9MB/s \n",
            "\u001b[?25hRequirement already satisfied: six in /usr/local/lib/python3.6/dist-packages (from quandl) (1.12.0)\n",
            "Requirement already satisfied: numpy>=1.8 in /usr/local/lib/python3.6/dist-packages (from quandl) (1.17.4)\n",
            "Collecting pyOpenSSL\n",
            "\u001b[?25l  Downloading https://files.pythonhosted.org/packages/01/c8/ceb170d81bd3941cbeb9940fc6cc2ef2ca4288d0ca8929ea4db5905d904d/pyOpenSSL-19.0.0-py2.py3-none-any.whl (53kB)\n",
            "\u001b[K     |████████████████████████████████| 61kB 8.3MB/s \n",
            "\u001b[?25hRequirement already satisfied: pyasn1 in /usr/local/lib/python3.6/dist-packages (from quandl) (0.4.7)\n",
            "Requirement already satisfied: pandas>=0.14 in /usr/local/lib/python3.6/dist-packages (from quandl) (0.25.3)\n",
            "Collecting ndg-httpsclient\n",
            "  Downloading https://files.pythonhosted.org/packages/fb/67/c2f508c00ed2a6911541494504b7cac16fe0b0473912568df65fd1801132/ndg_httpsclient-0.5.1-py3-none-any.whl\n",
            "Collecting inflection>=0.3.1\n",
            "  Downloading https://files.pythonhosted.org/packages/d5/35/a6eb45b4e2356fe688b21570864d4aa0d0a880ce387defe9c589112077f8/inflection-0.3.1.tar.gz\n",
            "Requirement already satisfied: urllib3<1.25,>=1.21.1 in /usr/local/lib/python3.6/dist-packages (from requests>=2.7.0->quandl) (1.24.3)\n",
            "Requirement already satisfied: idna<2.9,>=2.5 in /usr/local/lib/python3.6/dist-packages (from requests>=2.7.0->quandl) (2.8)\n",
            "Requirement already satisfied: certifi>=2017.4.17 in /usr/local/lib/python3.6/dist-packages (from requests>=2.7.0->quandl) (2019.9.11)\n",
            "Requirement already satisfied: chardet<3.1.0,>=3.0.2 in /usr/local/lib/python3.6/dist-packages (from requests>=2.7.0->quandl) (3.0.4)\n",
            "Collecting cryptography>=2.3\n",
            "\u001b[?25l  Downloading https://files.pythonhosted.org/packages/ca/9a/7cece52c46546e214e10811b36b2da52ce1ea7fa203203a629b8dfadad53/cryptography-2.8-cp34-abi3-manylinux2010_x86_64.whl (2.3MB)\n",
            "\u001b[K     |████████████████████████████████| 2.3MB 14.4MB/s \n",
            "\u001b[?25hRequirement already satisfied: pytz>=2017.2 in /usr/local/lib/python3.6/dist-packages (from pandas>=0.14->quandl) (2018.9)\n",
            "Requirement already satisfied: cffi!=1.11.3,>=1.8 in /usr/local/lib/python3.6/dist-packages (from cryptography>=2.3->pyOpenSSL->quandl) (1.13.2)\n",
            "Requirement already satisfied: pycparser in /usr/local/lib/python3.6/dist-packages (from cffi!=1.11.3,>=1.8->cryptography>=2.3->pyOpenSSL->quandl) (2.19)\n",
            "Building wheels for collected packages: inflection\n",
            "  Building wheel for inflection (setup.py) ... \u001b[?25l\u001b[?25hdone\n",
            "  Created wheel for inflection: filename=inflection-0.3.1-cp36-none-any.whl size=6076 sha256=444de12d69281a1f1a7020db407789faa72a0e0af17eb18eaa6f9e36ec343eb8\n",
            "  Stored in directory: /root/.cache/pip/wheels/9f/5a/d3/6fc3bf6516d2a3eb7e18f9f28b472110b59325f3f258fe9211\n",
            "Successfully built inflection\n",
            "\u001b[31mERROR: datascience 0.10.6 has requirement folium==0.2.1, but you'll have folium 0.8.3 which is incompatible.\u001b[0m\n",
            "Installing collected packages: more-itertools, cryptography, pyOpenSSL, ndg-httpsclient, inflection, quandl\n",
            "  Found existing installation: more-itertools 7.2.0\n",
            "    Uninstalling more-itertools-7.2.0:\n",
            "      Successfully uninstalled more-itertools-7.2.0\n",
            "Successfully installed cryptography-2.8 inflection-0.3.1 more-itertools-5.0.0 ndg-httpsclient-0.5.1 pyOpenSSL-19.0.0 quandl-3.4.8\n"
          ],
          "name": "stdout"
        }
      ]
    },
    {
      "cell_type": "code",
      "metadata": {
        "id": "vC_Y1deEU_st",
        "colab_type": "code",
        "colab": {}
      },
      "source": [
        "df = quandl.get(\"USTREASURY/YIELD\")"
      ],
      "execution_count": 0,
      "outputs": []
    },
    {
      "cell_type": "code",
      "metadata": {
        "scrolled": true,
        "id": "zNI55P-rU_sw",
        "colab_type": "code",
        "outputId": "6a2f1692-5b63-431b-da05-10b8e5f5b7df",
        "colab": {
          "base_uri": "https://localhost:8080/",
          "height": 225
        }
      },
      "source": [
        "df.head() #Checking data"
      ],
      "execution_count": 0,
      "outputs": [
        {
          "output_type": "execute_result",
          "data": {
            "text/html": [
              "<div>\n",
              "<style scoped>\n",
              "    .dataframe tbody tr th:only-of-type {\n",
              "        vertical-align: middle;\n",
              "    }\n",
              "\n",
              "    .dataframe tbody tr th {\n",
              "        vertical-align: top;\n",
              "    }\n",
              "\n",
              "    .dataframe thead th {\n",
              "        text-align: right;\n",
              "    }\n",
              "</style>\n",
              "<table border=\"1\" class=\"dataframe\">\n",
              "  <thead>\n",
              "    <tr style=\"text-align: right;\">\n",
              "      <th></th>\n",
              "      <th>1 MO</th>\n",
              "      <th>2 MO</th>\n",
              "      <th>3 MO</th>\n",
              "      <th>6 MO</th>\n",
              "      <th>1 YR</th>\n",
              "      <th>2 YR</th>\n",
              "      <th>3 YR</th>\n",
              "      <th>5 YR</th>\n",
              "      <th>7 YR</th>\n",
              "      <th>10 YR</th>\n",
              "      <th>20 YR</th>\n",
              "      <th>30 YR</th>\n",
              "    </tr>\n",
              "    <tr>\n",
              "      <th>Date</th>\n",
              "      <th></th>\n",
              "      <th></th>\n",
              "      <th></th>\n",
              "      <th></th>\n",
              "      <th></th>\n",
              "      <th></th>\n",
              "      <th></th>\n",
              "      <th></th>\n",
              "      <th></th>\n",
              "      <th></th>\n",
              "      <th></th>\n",
              "      <th></th>\n",
              "    </tr>\n",
              "  </thead>\n",
              "  <tbody>\n",
              "    <tr>\n",
              "      <th>1990-01-02</th>\n",
              "      <td>NaN</td>\n",
              "      <td>NaN</td>\n",
              "      <td>7.83</td>\n",
              "      <td>7.89</td>\n",
              "      <td>7.81</td>\n",
              "      <td>7.87</td>\n",
              "      <td>7.90</td>\n",
              "      <td>7.87</td>\n",
              "      <td>7.98</td>\n",
              "      <td>7.94</td>\n",
              "      <td>NaN</td>\n",
              "      <td>8.00</td>\n",
              "    </tr>\n",
              "    <tr>\n",
              "      <th>1990-01-03</th>\n",
              "      <td>NaN</td>\n",
              "      <td>NaN</td>\n",
              "      <td>7.89</td>\n",
              "      <td>7.94</td>\n",
              "      <td>7.85</td>\n",
              "      <td>7.94</td>\n",
              "      <td>7.96</td>\n",
              "      <td>7.92</td>\n",
              "      <td>8.04</td>\n",
              "      <td>7.99</td>\n",
              "      <td>NaN</td>\n",
              "      <td>8.04</td>\n",
              "    </tr>\n",
              "    <tr>\n",
              "      <th>1990-01-04</th>\n",
              "      <td>NaN</td>\n",
              "      <td>NaN</td>\n",
              "      <td>7.84</td>\n",
              "      <td>7.90</td>\n",
              "      <td>7.82</td>\n",
              "      <td>7.92</td>\n",
              "      <td>7.93</td>\n",
              "      <td>7.91</td>\n",
              "      <td>8.02</td>\n",
              "      <td>7.98</td>\n",
              "      <td>NaN</td>\n",
              "      <td>8.04</td>\n",
              "    </tr>\n",
              "    <tr>\n",
              "      <th>1990-01-05</th>\n",
              "      <td>NaN</td>\n",
              "      <td>NaN</td>\n",
              "      <td>7.79</td>\n",
              "      <td>7.85</td>\n",
              "      <td>7.79</td>\n",
              "      <td>7.90</td>\n",
              "      <td>7.94</td>\n",
              "      <td>7.92</td>\n",
              "      <td>8.03</td>\n",
              "      <td>7.99</td>\n",
              "      <td>NaN</td>\n",
              "      <td>8.06</td>\n",
              "    </tr>\n",
              "    <tr>\n",
              "      <th>1990-01-08</th>\n",
              "      <td>NaN</td>\n",
              "      <td>NaN</td>\n",
              "      <td>7.79</td>\n",
              "      <td>7.88</td>\n",
              "      <td>7.81</td>\n",
              "      <td>7.90</td>\n",
              "      <td>7.95</td>\n",
              "      <td>7.92</td>\n",
              "      <td>8.05</td>\n",
              "      <td>8.02</td>\n",
              "      <td>NaN</td>\n",
              "      <td>8.09</td>\n",
              "    </tr>\n",
              "  </tbody>\n",
              "</table>\n",
              "</div>"
            ],
            "text/plain": [
              "            1 MO  2 MO  3 MO  6 MO  1 YR  ...  5 YR  7 YR  10 YR  20 YR  30 YR\n",
              "Date                                      ...                                 \n",
              "1990-01-02   NaN   NaN  7.83  7.89  7.81  ...  7.87  7.98   7.94    NaN   8.00\n",
              "1990-01-03   NaN   NaN  7.89  7.94  7.85  ...  7.92  8.04   7.99    NaN   8.04\n",
              "1990-01-04   NaN   NaN  7.84  7.90  7.82  ...  7.91  8.02   7.98    NaN   8.04\n",
              "1990-01-05   NaN   NaN  7.79  7.85  7.79  ...  7.92  8.03   7.99    NaN   8.06\n",
              "1990-01-08   NaN   NaN  7.79  7.88  7.81  ...  7.92  8.05   8.02    NaN   8.09\n",
              "\n",
              "[5 rows x 12 columns]"
            ]
          },
          "metadata": {
            "tags": []
          },
          "execution_count": 4
        }
      ]
    },
    {
      "cell_type": "code",
      "metadata": {
        "id": "8My0QSHbU_s0",
        "colab_type": "code",
        "outputId": "a5a30a13-3b71-4436-a10e-d9cc901671b6",
        "colab": {
          "base_uri": "https://localhost:8080/",
          "height": 246
        }
      },
      "source": [
        "df.count() #Checking no. of data points "
      ],
      "execution_count": 0,
      "outputs": [
        {
          "output_type": "execute_result",
          "data": {
            "text/plain": [
              "1 MO     4575\n",
              "2 MO      270\n",
              "3 MO     7471\n",
              "6 MO     7474\n",
              "1 YR     7474\n",
              "2 YR     7474\n",
              "3 YR     7474\n",
              "5 YR     7474\n",
              "7 YR     7474\n",
              "10 YR    7474\n",
              "20 YR    6535\n",
              "30 YR    6480\n",
              "dtype: int64"
            ]
          },
          "metadata": {
            "tags": []
          },
          "execution_count": 5
        }
      ]
    },
    {
      "cell_type": "code",
      "metadata": {
        "id": "hv5OjSPzU_s3",
        "colab_type": "code",
        "colab": {}
      },
      "source": [
        "df = df.drop([\"2 MO\"],  axis =1) #Dropping columns with very few data points"
      ],
      "execution_count": 0,
      "outputs": []
    },
    {
      "cell_type": "code",
      "metadata": {
        "id": "A50Fh9RSU_s6",
        "colab_type": "code",
        "colab": {}
      },
      "source": [
        "df = df.drop([\"1 MO\"], axis = 1 )"
      ],
      "execution_count": 0,
      "outputs": []
    },
    {
      "cell_type": "code",
      "metadata": {
        "id": "7vzXgn4EU_s9",
        "colab_type": "code",
        "outputId": "f8bb07b9-4fa3-42da-f6e9-d5278144153c",
        "colab": {
          "base_uri": "https://localhost:8080/",
          "height": 210
        }
      },
      "source": [
        "df.count() #Checking data points again"
      ],
      "execution_count": 0,
      "outputs": [
        {
          "output_type": "execute_result",
          "data": {
            "text/plain": [
              "3 MO     7471\n",
              "6 MO     7474\n",
              "1 YR     7474\n",
              "2 YR     7474\n",
              "3 YR     7474\n",
              "5 YR     7474\n",
              "7 YR     7474\n",
              "10 YR    7474\n",
              "20 YR    6535\n",
              "30 YR    6480\n",
              "dtype: int64"
            ]
          },
          "metadata": {
            "tags": []
          },
          "execution_count": 8
        }
      ]
    },
    {
      "cell_type": "code",
      "metadata": {
        "id": "SjZC_gZRU_tA",
        "colab_type": "code",
        "colab": {}
      },
      "source": [
        "df = df.dropna() #Dropping NANs "
      ],
      "execution_count": 0,
      "outputs": []
    },
    {
      "cell_type": "code",
      "metadata": {
        "id": "9SrjS06sU_tC",
        "colab_type": "code",
        "outputId": "86bd2dca-54f2-479c-db03-95b683d1694b",
        "colab": {
          "base_uri": "https://localhost:8080/",
          "height": 210
        }
      },
      "source": [
        "df.count()"
      ],
      "execution_count": 0,
      "outputs": [
        {
          "output_type": "execute_result",
          "data": {
            "text/plain": [
              "3 MO     5538\n",
              "6 MO     5538\n",
              "1 YR     5538\n",
              "2 YR     5538\n",
              "3 YR     5538\n",
              "5 YR     5538\n",
              "7 YR     5538\n",
              "10 YR    5538\n",
              "20 YR    5538\n",
              "30 YR    5538\n",
              "dtype: int64"
            ]
          },
          "metadata": {
            "tags": []
          },
          "execution_count": 10
        }
      ]
    },
    {
      "cell_type": "code",
      "metadata": {
        "id": "H_LAUR1AU_tF",
        "colab_type": "code",
        "outputId": "b814b881-d93d-4e4e-ab53-a762203e2e73",
        "colab": {
          "base_uri": "https://localhost:8080/",
          "height": 225
        }
      },
      "source": [
        "df.head()"
      ],
      "execution_count": 0,
      "outputs": [
        {
          "output_type": "execute_result",
          "data": {
            "text/html": [
              "<div>\n",
              "<style scoped>\n",
              "    .dataframe tbody tr th:only-of-type {\n",
              "        vertical-align: middle;\n",
              "    }\n",
              "\n",
              "    .dataframe tbody tr th {\n",
              "        vertical-align: top;\n",
              "    }\n",
              "\n",
              "    .dataframe thead th {\n",
              "        text-align: right;\n",
              "    }\n",
              "</style>\n",
              "<table border=\"1\" class=\"dataframe\">\n",
              "  <thead>\n",
              "    <tr style=\"text-align: right;\">\n",
              "      <th></th>\n",
              "      <th>3 MO</th>\n",
              "      <th>6 MO</th>\n",
              "      <th>1 YR</th>\n",
              "      <th>2 YR</th>\n",
              "      <th>3 YR</th>\n",
              "      <th>5 YR</th>\n",
              "      <th>7 YR</th>\n",
              "      <th>10 YR</th>\n",
              "      <th>20 YR</th>\n",
              "      <th>30 YR</th>\n",
              "    </tr>\n",
              "    <tr>\n",
              "      <th>Date</th>\n",
              "      <th></th>\n",
              "      <th></th>\n",
              "      <th></th>\n",
              "      <th></th>\n",
              "      <th></th>\n",
              "      <th></th>\n",
              "      <th></th>\n",
              "      <th></th>\n",
              "      <th></th>\n",
              "      <th></th>\n",
              "    </tr>\n",
              "  </thead>\n",
              "  <tbody>\n",
              "    <tr>\n",
              "      <th>1993-10-01</th>\n",
              "      <td>2.98</td>\n",
              "      <td>3.11</td>\n",
              "      <td>3.35</td>\n",
              "      <td>3.84</td>\n",
              "      <td>4.18</td>\n",
              "      <td>4.72</td>\n",
              "      <td>5.03</td>\n",
              "      <td>5.34</td>\n",
              "      <td>6.12</td>\n",
              "      <td>5.98</td>\n",
              "    </tr>\n",
              "    <tr>\n",
              "      <th>1993-10-04</th>\n",
              "      <td>3.02</td>\n",
              "      <td>3.17</td>\n",
              "      <td>3.35</td>\n",
              "      <td>3.85</td>\n",
              "      <td>4.16</td>\n",
              "      <td>4.71</td>\n",
              "      <td>5.04</td>\n",
              "      <td>5.34</td>\n",
              "      <td>6.10</td>\n",
              "      <td>5.99</td>\n",
              "    </tr>\n",
              "    <tr>\n",
              "      <th>1993-10-05</th>\n",
              "      <td>3.06</td>\n",
              "      <td>3.20</td>\n",
              "      <td>3.38</td>\n",
              "      <td>3.86</td>\n",
              "      <td>4.18</td>\n",
              "      <td>4.72</td>\n",
              "      <td>5.05</td>\n",
              "      <td>5.35</td>\n",
              "      <td>6.12</td>\n",
              "      <td>6.01</td>\n",
              "    </tr>\n",
              "    <tr>\n",
              "      <th>1993-10-06</th>\n",
              "      <td>3.04</td>\n",
              "      <td>3.19</td>\n",
              "      <td>3.36</td>\n",
              "      <td>3.85</td>\n",
              "      <td>4.16</td>\n",
              "      <td>4.70</td>\n",
              "      <td>5.05</td>\n",
              "      <td>5.35</td>\n",
              "      <td>6.12</td>\n",
              "      <td>6.01</td>\n",
              "    </tr>\n",
              "    <tr>\n",
              "      <th>1993-10-07</th>\n",
              "      <td>3.05</td>\n",
              "      <td>3.17</td>\n",
              "      <td>3.35</td>\n",
              "      <td>3.83</td>\n",
              "      <td>4.15</td>\n",
              "      <td>4.69</td>\n",
              "      <td>5.05</td>\n",
              "      <td>5.33</td>\n",
              "      <td>6.11</td>\n",
              "      <td>6.01</td>\n",
              "    </tr>\n",
              "  </tbody>\n",
              "</table>\n",
              "</div>"
            ],
            "text/plain": [
              "            3 MO  6 MO  1 YR  2 YR  3 YR  5 YR  7 YR  10 YR  20 YR  30 YR\n",
              "Date                                                                     \n",
              "1993-10-01  2.98  3.11  3.35  3.84  4.18  4.72  5.03   5.34   6.12   5.98\n",
              "1993-10-04  3.02  3.17  3.35  3.85  4.16  4.71  5.04   5.34   6.10   5.99\n",
              "1993-10-05  3.06  3.20  3.38  3.86  4.18  4.72  5.05   5.35   6.12   6.01\n",
              "1993-10-06  3.04  3.19  3.36  3.85  4.16  4.70  5.05   5.35   6.12   6.01\n",
              "1993-10-07  3.05  3.17  3.35  3.83  4.15  4.69  5.05   5.33   6.11   6.01"
            ]
          },
          "metadata": {
            "tags": []
          },
          "execution_count": 11
        }
      ]
    },
    {
      "cell_type": "code",
      "metadata": {
        "id": "CN3kBccKU_tK",
        "colab_type": "code",
        "colab": {}
      },
      "source": [
        "#Fuction to estimate betas' coefficient \n",
        "\n",
        "import math\n",
        "\n",
        "def constants(lamb, t):\n",
        "    c1 = 1\n",
        "    c2 = (1 - exp(-t * lamb))/(t * lamb)\n",
        "    c3 = (1 - exp(-t * lamb))/(t * lamb) - exp(-t * lamb)\n",
        "    \n",
        "    return c1,c2,c3"
      ],
      "execution_count": 0,
      "outputs": []
    },
    {
      "cell_type": "code",
      "metadata": {
        "id": "CoGeVKwNU_tM",
        "colab_type": "code",
        "colab": {}
      },
      "source": [
        "a2y,b2y,c2y = constants(0.0609,24)"
      ],
      "execution_count": 0,
      "outputs": []
    },
    {
      "cell_type": "code",
      "metadata": {
        "id": "Gr0UmZixU_tO",
        "colab_type": "code",
        "colab": {}
      },
      "source": [
        "a10y,b10y,c10y = constants(.0609,120)"
      ],
      "execution_count": 0,
      "outputs": []
    },
    {
      "cell_type": "code",
      "metadata": {
        "id": "DPGp_HYlU_tR",
        "colab_type": "code",
        "colab": {}
      },
      "source": [
        "a20y,b20y,c20y = constants(.0609,240)\n",
        "a1y,b1y,c1y = constants(.0609,12)\n",
        "a3y,b3y,c3y = constants(.0609,36)\n",
        "a5,b5,c5 = constants(.0609,60)\n",
        "a7,b7,c7 = constants(.0609,84)\n",
        "a3,b3,c3 = constants(.609,3)\n",
        "a6,b6,c6 = constants(.609,6)"
      ],
      "execution_count": 0,
      "outputs": []
    },
    {
      "cell_type": "code",
      "metadata": {
        "id": "0cHqhcPLU_tT",
        "colab_type": "code",
        "colab": {}
      },
      "source": [
        "df['beta_0'] = 0\n",
        "df['beta_1'] = 0\n",
        "df['beta_2'] = 0"
      ],
      "execution_count": 0,
      "outputs": []
    },
    {
      "cell_type": "code",
      "metadata": {
        "id": "odrtIRODU_tY",
        "colab_type": "code",
        "colab": {}
      },
      "source": [
        "#Fuction to estimate betas ussing OLS\n",
        "\n",
        "\n",
        "import statsmodels.api as sm\n",
        "def parameters(a2y,b2y,c2y,a10y,b10y,c10y,a20y,b20y,c20y,a3y,b3y,c3y,a5,b5,c5,a7,b7,c7,a1y,b1y,c1y,a3,b3,c3,a6,b6,c6):\n",
        "    for i in range(len(df)):\n",
        "        y1 = df['2 YR'].iloc[i]\n",
        "        y2 = df['10 YR'].iloc[i]\n",
        "        y3 = df['20 YR'].iloc[i]\n",
        "        y4 = df['3 YR'].iloc[i]\n",
        "        y5 = df['5 YR'].iloc[i]\n",
        "        y6 = df['7 YR'].iloc[i]\n",
        "        y7 = df['1 YR'].iloc[i]\n",
        "        y8 = df['3 MO'].iloc[i]\n",
        "        y9 = df['6 MO'].iloc[i]\n",
        "    \n",
        "        y = np.array([y1,y2,y3,y4,y5,y6,y7,y8,y9])\n",
        "        y = np.reshape(y,(-1,1))\n",
        "\n",
        "        X = np.array([[a2y,b2y,c2y],[a10y,b10y,c10y],[a20y,b20y,c20y],\n",
        "                      [a3y,b3y,c3y],[a5,b5,c5],[a7,b7,c7],[a1y,b1y,c1y],\n",
        "                      [a3,b3,c3],[a6,b6,c6]])\n",
        "\n",
        "        X = sm.add_constant(X)\n",
        "\n",
        "        est = sm.OLS(y,X)\n",
        "        est = est.fit()\n",
        "\n",
        "        df['beta_0'].iloc[i] = est.params[0]\n",
        "        df['beta_1'].iloc[i] = est.params[1]\n",
        "        df['beta_2'].iloc[i] = est.params[2]"
      ],
      "execution_count": 0,
      "outputs": []
    },
    {
      "cell_type": "code",
      "metadata": {
        "id": "MuwP4YsvU_tc",
        "colab_type": "code",
        "outputId": "37dc54d7-819b-4498-c80a-22655884f9b9",
        "colab": {
          "base_uri": "https://localhost:8080/",
          "height": 105
        }
      },
      "source": [
        "parameters(a2y,b2y,c2y,a10y,b10y,c10y,a20y,b20y,c20y,a3y,b3y,c3y,a5,b5,c5,a7,b7,c7,a1y,b1y,c1y,a3,b3,c3,a6,b6,c6)"
      ],
      "execution_count": 0,
      "outputs": [
        {
          "output_type": "stream",
          "text": [
            "/usr/local/lib/python3.6/dist-packages/pandas/core/indexing.py:205: SettingWithCopyWarning: \n",
            "A value is trying to be set on a copy of a slice from a DataFrame\n",
            "\n",
            "See the caveats in the documentation: http://pandas.pydata.org/pandas-docs/stable/user_guide/indexing.html#returning-a-view-versus-a-copy\n",
            "  self._setitem_with_indexer(indexer, value)\n"
          ],
          "name": "stderr"
        }
      ]
    },
    {
      "cell_type": "code",
      "metadata": {
        "id": "gJMCcvf5U_th",
        "colab_type": "code",
        "outputId": "80dacc94-f2e5-4792-8a4d-19888be51477",
        "colab": {
          "base_uri": "https://localhost:8080/",
          "height": 225
        }
      },
      "source": [
        "df.head()"
      ],
      "execution_count": 0,
      "outputs": [
        {
          "output_type": "execute_result",
          "data": {
            "text/html": [
              "<div>\n",
              "<style scoped>\n",
              "    .dataframe tbody tr th:only-of-type {\n",
              "        vertical-align: middle;\n",
              "    }\n",
              "\n",
              "    .dataframe tbody tr th {\n",
              "        vertical-align: top;\n",
              "    }\n",
              "\n",
              "    .dataframe thead th {\n",
              "        text-align: right;\n",
              "    }\n",
              "</style>\n",
              "<table border=\"1\" class=\"dataframe\">\n",
              "  <thead>\n",
              "    <tr style=\"text-align: right;\">\n",
              "      <th></th>\n",
              "      <th>3 MO</th>\n",
              "      <th>6 MO</th>\n",
              "      <th>1 YR</th>\n",
              "      <th>2 YR</th>\n",
              "      <th>3 YR</th>\n",
              "      <th>5 YR</th>\n",
              "      <th>7 YR</th>\n",
              "      <th>10 YR</th>\n",
              "      <th>20 YR</th>\n",
              "      <th>30 YR</th>\n",
              "      <th>beta_0</th>\n",
              "      <th>beta_1</th>\n",
              "      <th>beta_2</th>\n",
              "    </tr>\n",
              "    <tr>\n",
              "      <th>Date</th>\n",
              "      <th></th>\n",
              "      <th></th>\n",
              "      <th></th>\n",
              "      <th></th>\n",
              "      <th></th>\n",
              "      <th></th>\n",
              "      <th></th>\n",
              "      <th></th>\n",
              "      <th></th>\n",
              "      <th></th>\n",
              "      <th></th>\n",
              "      <th></th>\n",
              "      <th></th>\n",
              "    </tr>\n",
              "  </thead>\n",
              "  <tbody>\n",
              "    <tr>\n",
              "      <th>1993-10-01</th>\n",
              "      <td>2.98</td>\n",
              "      <td>3.11</td>\n",
              "      <td>3.35</td>\n",
              "      <td>3.84</td>\n",
              "      <td>4.18</td>\n",
              "      <td>4.72</td>\n",
              "      <td>5.03</td>\n",
              "      <td>5.34</td>\n",
              "      <td>6.12</td>\n",
              "      <td>5.98</td>\n",
              "      <td>6.666589</td>\n",
              "      <td>-1.943584</td>\n",
              "      <td>-7.765616</td>\n",
              "    </tr>\n",
              "    <tr>\n",
              "      <th>1993-10-04</th>\n",
              "      <td>3.02</td>\n",
              "      <td>3.17</td>\n",
              "      <td>3.35</td>\n",
              "      <td>3.85</td>\n",
              "      <td>4.16</td>\n",
              "      <td>4.71</td>\n",
              "      <td>5.04</td>\n",
              "      <td>5.34</td>\n",
              "      <td>6.10</td>\n",
              "      <td>5.99</td>\n",
              "      <td>6.644550</td>\n",
              "      <td>-1.975793</td>\n",
              "      <td>-7.581481</td>\n",
              "    </tr>\n",
              "    <tr>\n",
              "      <th>1993-10-05</th>\n",
              "      <td>3.06</td>\n",
              "      <td>3.20</td>\n",
              "      <td>3.38</td>\n",
              "      <td>3.86</td>\n",
              "      <td>4.18</td>\n",
              "      <td>4.72</td>\n",
              "      <td>5.05</td>\n",
              "      <td>5.35</td>\n",
              "      <td>6.12</td>\n",
              "      <td>6.01</td>\n",
              "      <td>6.656880</td>\n",
              "      <td>-1.952744</td>\n",
              "      <td>-7.581914</td>\n",
              "    </tr>\n",
              "    <tr>\n",
              "      <th>1993-10-06</th>\n",
              "      <td>3.04</td>\n",
              "      <td>3.19</td>\n",
              "      <td>3.36</td>\n",
              "      <td>3.85</td>\n",
              "      <td>4.16</td>\n",
              "      <td>4.70</td>\n",
              "      <td>5.05</td>\n",
              "      <td>5.35</td>\n",
              "      <td>6.12</td>\n",
              "      <td>6.01</td>\n",
              "      <td>6.664764</td>\n",
              "      <td>-1.969146</td>\n",
              "      <td>-7.642901</td>\n",
              "    </tr>\n",
              "    <tr>\n",
              "      <th>1993-10-07</th>\n",
              "      <td>3.05</td>\n",
              "      <td>3.17</td>\n",
              "      <td>3.35</td>\n",
              "      <td>3.83</td>\n",
              "      <td>4.15</td>\n",
              "      <td>4.69</td>\n",
              "      <td>5.05</td>\n",
              "      <td>5.33</td>\n",
              "      <td>6.11</td>\n",
              "      <td>6.01</td>\n",
              "      <td>6.649469</td>\n",
              "      <td>-1.970819</td>\n",
              "      <td>-7.616373</td>\n",
              "    </tr>\n",
              "  </tbody>\n",
              "</table>\n",
              "</div>"
            ],
            "text/plain": [
              "            3 MO  6 MO  1 YR  2 YR  ...  30 YR    beta_0    beta_1    beta_2\n",
              "Date                                ...                                     \n",
              "1993-10-01  2.98  3.11  3.35  3.84  ...   5.98  6.666589 -1.943584 -7.765616\n",
              "1993-10-04  3.02  3.17  3.35  3.85  ...   5.99  6.644550 -1.975793 -7.581481\n",
              "1993-10-05  3.06  3.20  3.38  3.86  ...   6.01  6.656880 -1.952744 -7.581914\n",
              "1993-10-06  3.04  3.19  3.36  3.85  ...   6.01  6.664764 -1.969146 -7.642901\n",
              "1993-10-07  3.05  3.17  3.35  3.83  ...   6.01  6.649469 -1.970819 -7.616373\n",
              "\n",
              "[5 rows x 13 columns]"
            ]
          },
          "metadata": {
            "tags": []
          },
          "execution_count": 21
        }
      ]
    },
    {
      "cell_type": "code",
      "metadata": {
        "id": "F57UAT_rU_tn",
        "colab_type": "code",
        "outputId": "0cb002fb-0e7f-4d72-f4c3-7ce5b788b91c",
        "colab": {
          "base_uri": "https://localhost:8080/",
          "height": 367
        }
      },
      "source": [
        "#Plotting beta values\n",
        "\n",
        "df['beta_0'].plot(figsize = (10,6))\n",
        "plt.xlabel(\"Date\")\n",
        "plt.ylabel(\"beta_0\")\n",
        "plt.show()"
      ],
      "execution_count": 0,
      "outputs": [
        {
          "output_type": "display_data",
          "data": {
            "image/png": "[encoded data removed]",
            "text/plain": [
              "<Figure size 720x432 with 1 Axes>"
            ]
          },
          "metadata": {
            "tags": []
          }
        }
      ]
    },
    {
      "cell_type": "code",
      "metadata": {
        "id": "MQTcjntuU_ts",
        "colab_type": "code",
        "outputId": "95ce5dc2-167c-4ee5-a647-91ffe6042499",
        "colab": {
          "base_uri": "https://localhost:8080/",
          "height": 367
        }
      },
      "source": [
        "df['beta_1'].plot(figsize = (10,6))\n",
        "plt.xlabel(\"Date\")\n",
        "plt.ylabel(\"beta 1\")\n",
        "plt.show()"
      ],
      "execution_count": 0,
      "outputs": [
        {
          "output_type": "display_data",
          "data": {
            "image/png": "[encoded data removed]",
            "text/plain": [
              "<Figure size 720x432 with 1 Axes>"
            ]
          },
          "metadata": {
            "tags": []
          }
        }
      ]
    },
    {
      "cell_type": "code",
      "metadata": {
        "id": "SAhDT1u3U_tx",
        "colab_type": "code",
        "outputId": "a7bffce3-a862-42b5-8a1d-93b13a112d34",
        "colab": {
          "base_uri": "https://localhost:8080/",
          "height": 367
        }
      },
      "source": [
        "df['beta_2'].plot(figsize = (10,6))\n",
        "plt.xlabel(\"Date\")\n",
        "plt.ylabel(\"beta_2\")\n",
        "plt.show()"
      ],
      "execution_count": 0,
      "outputs": [
        {
          "output_type": "display_data",
          "data": {
            "image/png": "[encoded data removed]",
            "text/plain": [
              "<Figure size 720x432 with 1 Axes>"
            ]
          },
          "metadata": {
            "tags": []
          }
        }
      ]
    },
    {
      "cell_type": "code",
      "metadata": {
        "id": "D0sVU1GMU_t1",
        "colab_type": "code",
        "outputId": "7d67ce05-7c18-4570-f58d-22d0d7ada2f1",
        "colab": {
          "base_uri": "https://localhost:8080/",
          "height": 431
        }
      },
      "source": [
        "#Normalising Data\n",
        "df.iloc[:,10:]"
      ],
      "execution_count": 0,
      "outputs": [
        {
          "output_type": "execute_result",
          "data": {
            "text/html": [
              "<div>\n",
              "<style scoped>\n",
              "    .dataframe tbody tr th:only-of-type {\n",
              "        vertical-align: middle;\n",
              "    }\n",
              "\n",
              "    .dataframe tbody tr th {\n",
              "        vertical-align: top;\n",
              "    }\n",
              "\n",
              "    .dataframe thead th {\n",
              "        text-align: right;\n",
              "    }\n",
              "</style>\n",
              "<table border=\"1\" class=\"dataframe\">\n",
              "  <thead>\n",
              "    <tr style=\"text-align: right;\">\n",
              "      <th></th>\n",
              "      <th>beta_0</th>\n",
              "      <th>beta_1</th>\n",
              "      <th>beta_2</th>\n",
              "    </tr>\n",
              "    <tr>\n",
              "      <th>Date</th>\n",
              "      <th></th>\n",
              "      <th></th>\n",
              "      <th></th>\n",
              "    </tr>\n",
              "  </thead>\n",
              "  <tbody>\n",
              "    <tr>\n",
              "      <th>1993-10-01</th>\n",
              "      <td>6.666589</td>\n",
              "      <td>-1.943584</td>\n",
              "      <td>-7.765616</td>\n",
              "    </tr>\n",
              "    <tr>\n",
              "      <th>1993-10-04</th>\n",
              "      <td>6.644550</td>\n",
              "      <td>-1.975793</td>\n",
              "      <td>-7.581481</td>\n",
              "    </tr>\n",
              "    <tr>\n",
              "      <th>1993-10-05</th>\n",
              "      <td>6.656880</td>\n",
              "      <td>-1.952744</td>\n",
              "      <td>-7.581914</td>\n",
              "    </tr>\n",
              "    <tr>\n",
              "      <th>1993-10-06</th>\n",
              "      <td>6.664764</td>\n",
              "      <td>-1.969146</td>\n",
              "      <td>-7.642901</td>\n",
              "    </tr>\n",
              "    <tr>\n",
              "      <th>1993-10-07</th>\n",
              "      <td>6.649469</td>\n",
              "      <td>-1.970819</td>\n",
              "      <td>-7.616373</td>\n",
              "    </tr>\n",
              "    <tr>\n",
              "      <th>...</th>\n",
              "      <td>...</td>\n",
              "      <td>...</td>\n",
              "      <td>...</td>\n",
              "    </tr>\n",
              "    <tr>\n",
              "      <th>2019-11-07</th>\n",
              "      <td>2.283254</td>\n",
              "      <td>-0.274315</td>\n",
              "      <td>-1.950714</td>\n",
              "    </tr>\n",
              "    <tr>\n",
              "      <th>2019-11-08</th>\n",
              "      <td>2.323858</td>\n",
              "      <td>-0.285491</td>\n",
              "      <td>-2.087325</td>\n",
              "    </tr>\n",
              "    <tr>\n",
              "      <th>2019-11-12</th>\n",
              "      <td>2.282163</td>\n",
              "      <td>-0.280528</td>\n",
              "      <td>-1.936297</td>\n",
              "    </tr>\n",
              "    <tr>\n",
              "      <th>2019-11-13</th>\n",
              "      <td>2.239041</td>\n",
              "      <td>-0.236426</td>\n",
              "      <td>-1.944157</td>\n",
              "    </tr>\n",
              "    <tr>\n",
              "      <th>2019-11-14</th>\n",
              "      <td>2.178368</td>\n",
              "      <td>-0.186441</td>\n",
              "      <td>-1.931833</td>\n",
              "    </tr>\n",
              "  </tbody>\n",
              "</table>\n",
              "<p>5538 rows × 3 columns</p>\n",
              "</div>"
            ],
            "text/plain": [
              "              beta_0    beta_1    beta_2\n",
              "Date                                    \n",
              "1993-10-01  6.666589 -1.943584 -7.765616\n",
              "1993-10-04  6.644550 -1.975793 -7.581481\n",
              "1993-10-05  6.656880 -1.952744 -7.581914\n",
              "1993-10-06  6.664764 -1.969146 -7.642901\n",
              "1993-10-07  6.649469 -1.970819 -7.616373\n",
              "...              ...       ...       ...\n",
              "2019-11-07  2.283254 -0.274315 -1.950714\n",
              "2019-11-08  2.323858 -0.285491 -2.087325\n",
              "2019-11-12  2.282163 -0.280528 -1.936297\n",
              "2019-11-13  2.239041 -0.236426 -1.944157\n",
              "2019-11-14  2.178368 -0.186441 -1.931833\n",
              "\n",
              "[5538 rows x 3 columns]"
            ]
          },
          "metadata": {
            "tags": []
          },
          "execution_count": 25
        }
      ]
    },
    {
      "cell_type": "code",
      "metadata": {
        "id": "Lrcv2DrmU_t5",
        "colab_type": "code",
        "outputId": "c5e88403-db75-4c35-f444-0f7ec5161aa3",
        "colab": {
          "base_uri": "https://localhost:8080/",
          "height": 140
        }
      },
      "source": [
        "from sklearn.preprocessing import MinMaxScaler\n",
        "\n",
        "input_features = df.iloc[:,10:].values\n",
        "input_data = input_features\n",
        "print(input_data)"
      ],
      "execution_count": 0,
      "outputs": [
        {
          "output_type": "stream",
          "text": [
            "[[ 6.66658893 -1.94358423 -7.76561639]\n",
            " [ 6.64454955 -1.97579251 -7.58148149]\n",
            " [ 6.65687992 -1.95274401 -7.5819138 ]\n",
            " ...\n",
            " [ 2.28216346 -0.28052841 -1.93629654]\n",
            " [ 2.23904105 -0.23642555 -1.94415665]\n",
            " [ 2.17836824 -0.18644112 -1.93183315]]\n"
          ],
          "name": "stdout"
        }
      ]
    },
    {
      "cell_type": "code",
      "metadata": {
        "id": "QEXccZbnU_t9",
        "colab_type": "code",
        "colab": {}
      },
      "source": [
        "sc = MinMaxScaler(feature_range = (0,1))\n",
        "input_data[:,0:3] = sc.fit_transform(input_features[:,:])"
      ],
      "execution_count": 0,
      "outputs": []
    },
    {
      "cell_type": "code",
      "metadata": {
        "id": "gsQEvk6iU_uC",
        "colab_type": "code",
        "outputId": "aa2e7f86-6ee7-4a30-f44f-22b92ad573b9",
        "colab": {
          "base_uri": "https://localhost:8080/",
          "height": 140
        }
      },
      "source": [
        "input_data"
      ],
      "execution_count": 0,
      "outputs": [
        {
          "output_type": "execute_result",
          "data": {
            "text/plain": [
              "array([[0.69120055, 0.39939833, 0.36212712],\n",
              "       [0.68817898, 0.39179372, 0.37477972],\n",
              "       [0.68986946, 0.39723564, 0.37475002],\n",
              "       ...,\n",
              "       [0.09010261, 0.79205793, 0.76268151],\n",
              "       [0.08419059, 0.80247094, 0.76214141],\n",
              "       [0.07587244, 0.81427263, 0.76298821]])"
            ]
          },
          "metadata": {
            "tags": []
          },
          "execution_count": 28
        }
      ]
    },
    {
      "cell_type": "code",
      "metadata": {
        "id": "dyQ7j2pkU_uG",
        "colab_type": "code",
        "colab": {}
      },
      "source": [
        "#The parameter in y will change depending on what you will be predicting \n",
        "\n",
        "def create_dataset(beta):\n",
        "  lookback = 50\n",
        "\n",
        "  test_size = int(.3*len(df))\n",
        "  X = []\n",
        "  y = []\n",
        "\n",
        "  for i  in range(len(df) - lookback - 1):\n",
        "      t = []\n",
        "      for j in range(0,lookback):\n",
        "          \n",
        "          t.append(input_data[[(i+j)], :])\n",
        "      X.append(t)\n",
        "      y.append(input_data[i+ lookback,beta])"
      ],
      "execution_count": 0,
      "outputs": []
    },
    {
      "cell_type": "code",
      "metadata": {
        "id": "qzd6tJEcU_uU",
        "colab_type": "code",
        "outputId": "33f5301e-810a-40c9-f78e-92b40b36281c",
        "colab": {
          "base_uri": "https://localhost:8080/",
          "height": 70
        }
      },
      "source": [
        "X, y= np.array(X), np.array(y)\n",
        "train_size = len(df) - test_size\n",
        "X_train = X[:train_size - lookback]\n",
        "X_test = X[len(df) - (test_size+lookback):]\n",
        "X_train = X_train.reshape(X_train.shape[0],lookback, 3)\n",
        "X_test = X_test.reshape(X_test.shape[0],lookback, 3)\n",
        "y_train = y[:train_size - lookback]\n",
        "y_test = y[len(df) -(test_size+lookback):]\n",
        "print(y_test.shape )\n",
        "print(X_test.shape + X_train.shape)\n",
        "print(X.shape)"
      ],
      "execution_count": 0,
      "outputs": [
        {
          "output_type": "stream",
          "text": [
            "(1660,)\n",
            "(1660, 50, 3, 3827, 50, 3)\n",
            "(5487, 50, 1, 3)\n"
          ],
          "name": "stdout"
        }
      ]
    },
    {
      "cell_type": "code",
      "metadata": {
        "id": "sL8BMdbGU_uY",
        "colab_type": "code",
        "colab": {}
      },
      "source": [
        "import tensorflow as tf\n",
        "from keras import Sequential\n",
        "\n",
        "from keras.layers import Dense,LSTM,Dropout"
      ],
      "execution_count": 0,
      "outputs": []
    },
    {
      "cell_type": "code",
      "metadata": {
        "id": "7zx2QdqOWxJ-",
        "colab_type": "code",
        "outputId": "e58ba5c2-5ecb-4ced-e91e-15449468a2d0",
        "colab": {
          "base_uri": "https://localhost:8080/",
          "height": 474
        }
      },
      "source": [
        "model = Sequential()\n",
        "model.add(LSTM(units = 200,return_sequences=True,input_shape = (X_train.shape[1],3)))\n",
        "model.add(Dropout(0.1))\n",
        "\n",
        "model.add(LSTM(units = 200, return_sequences=True))\n",
        "model.add(Dropout(0.1))\n",
        "\n",
        "model.add(LSTM(units = 200, return_sequences=True))\n",
        "model.add(Dropout(0.1))\n",
        "\n",
        "model.add(LSTM(units = 200))\n",
        "model.add(Dropout(0.1))\n",
        "\n",
        "model.add(Dense(units = 1,activation= 'linear'))\n",
        "\n",
        "model.summary()"
      ],
      "execution_count": 0,
      "outputs": [
        {
          "output_type": "stream",
          "text": [
            "Model: \"sequential_2\"\n",
            "_________________________________________________________________\n",
            "Layer (type)                 Output Shape              Param #   \n",
            "=================================================================\n",
            "lstm_5 (LSTM)                (None, 50, 200)           163200    \n",
            "_________________________________________________________________\n",
            "dropout_5 (Dropout)          (None, 50, 200)           0         \n",
            "_________________________________________________________________\n",
            "lstm_6 (LSTM)                (None, 50, 200)           320800    \n",
            "_________________________________________________________________\n",
            "dropout_6 (Dropout)          (None, 50, 200)           0         \n",
            "_________________________________________________________________\n",
            "lstm_7 (LSTM)                (None, 50, 200)           320800    \n",
            "_________________________________________________________________\n",
            "dropout_7 (Dropout)          (None, 50, 200)           0         \n",
            "_________________________________________________________________\n",
            "lstm_8 (LSTM)                (None, 200)               320800    \n",
            "_________________________________________________________________\n",
            "dropout_8 (Dropout)          (None, 200)               0         \n",
            "_________________________________________________________________\n",
            "dense_2 (Dense)              (None, 1)                 201       \n",
            "=================================================================\n",
            "Total params: 1,125,801\n",
            "Trainable params: 1,125,801\n",
            "Non-trainable params: 0\n",
            "_________________________________________________________________\n"
          ],
          "name": "stdout"
        }
      ]
    },
    {
      "cell_type": "code",
      "metadata": {
        "id": "FMSgnnEaZ9Z4",
        "colab_type": "code",
        "colab": {}
      },
      "source": [
        "model.compile(optimizer='adam', loss = 'mse')"
      ],
      "execution_count": 0,
      "outputs": []
    },
    {
      "cell_type": "code",
      "metadata": {
        "id": "0cUpTgFnuk01",
        "colab_type": "code",
        "outputId": "fad981d2-cf9a-42b8-b56c-87685ca07171",
        "colab": {
          "base_uri": "https://localhost:8080/",
          "height": 424
        }
      },
      "source": [
        "model.fit(X_train,y_train,epochs = 1, batch_size = 32)"
      ],
      "execution_count": 0,
      "outputs": [
        {
          "output_type": "stream",
          "text": [
            "WARNING:tensorflow:From /usr/local/lib/python3.6/dist-packages/tensorflow_core/python/ops/math_grad.py:1424: where (from tensorflow.python.ops.array_ops) is deprecated and will be removed in a future version.\n",
            "Instructions for updating:\n",
            "Use tf.where in 2.0, which has the same broadcast rule as np.where\n",
            "WARNING:tensorflow:From /usr/local/lib/python3.6/dist-packages/keras/backend/tensorflow_backend.py:1033: The name tf.assign_add is deprecated. Please use tf.compat.v1.assign_add instead.\n",
            "\n",
            "WARNING:tensorflow:From /usr/local/lib/python3.6/dist-packages/keras/backend/tensorflow_backend.py:1020: The name tf.assign is deprecated. Please use tf.compat.v1.assign instead.\n",
            "\n",
            "WARNING:tensorflow:From /usr/local/lib/python3.6/dist-packages/keras/backend/tensorflow_backend.py:3005: The name tf.Session is deprecated. Please use tf.compat.v1.Session instead.\n",
            "\n",
            "Epoch 1/1\n",
            "WARNING:tensorflow:From /usr/local/lib/python3.6/dist-packages/keras/backend/tensorflow_backend.py:190: The name tf.get_default_session is deprecated. Please use tf.compat.v1.get_default_session instead.\n",
            "\n",
            "WARNING:tensorflow:From /usr/local/lib/python3.6/dist-packages/keras/backend/tensorflow_backend.py:197: The name tf.ConfigProto is deprecated. Please use tf.compat.v1.ConfigProto instead.\n",
            "\n",
            "WARNING:tensorflow:From /usr/local/lib/python3.6/dist-packages/keras/backend/tensorflow_backend.py:207: The name tf.global_variables is deprecated. Please use tf.compat.v1.global_variables instead.\n",
            "\n",
            "WARNING:tensorflow:From /usr/local/lib/python3.6/dist-packages/keras/backend/tensorflow_backend.py:216: The name tf.is_variable_initialized is deprecated. Please use tf.compat.v1.is_variable_initialized instead.\n",
            "\n",
            "WARNING:tensorflow:From /usr/local/lib/python3.6/dist-packages/keras/backend/tensorflow_backend.py:223: The name tf.variables_initializer is deprecated. Please use tf.compat.v1.variables_initializer instead.\n",
            "\n",
            "3827/3827 [==============================] - 64s 17ms/step - loss: 0.0103\n"
          ],
          "name": "stdout"
        },
        {
          "output_type": "execute_result",
          "data": {
            "text/plain": [
              "<keras.callbacks.History at 0x7efd0c78dbe0>"
            ]
          },
          "metadata": {
            "tags": []
          },
          "execution_count": 39
        }
      ]
    },
    {
      "cell_type": "code",
      "metadata": {
        "id": "E8JPkWYwumz0",
        "colab_type": "code",
        "colab": {}
      },
      "source": [
        "predicted_value = model.predict(X_test)"
      ],
      "execution_count": 0,
      "outputs": []
    },
    {
      "cell_type": "code",
      "metadata": {
        "id": "4mZcVXlKwTLh",
        "colab_type": "code",
        "outputId": "4b22663f-fa78-4bb0-a9db-29d3fe967a54",
        "colab": {
          "base_uri": "https://localhost:8080/",
          "height": 34
        }
      },
      "source": [
        "type(predicted_value)"
      ],
      "execution_count": 0,
      "outputs": [
        {
          "output_type": "execute_result",
          "data": {
            "text/plain": [
              "numpy.ndarray"
            ]
          },
          "metadata": {
            "tags": []
          },
          "execution_count": 41
        }
      ]
    },
    {
      "cell_type": "code",
      "metadata": {
        "id": "aALbLPjmwWoX",
        "colab_type": "code",
        "outputId": "d9e08089-cba6-4e8e-f78c-acac881bbe23",
        "colab": {
          "base_uri": "https://localhost:8080/",
          "height": 52
        }
      },
      "source": [
        "print(predicted_value.shape)\n",
        "print(input_data[lookback:test_size + lookback,0].shape)\n"
      ],
      "execution_count": 0,
      "outputs": [
        {
          "output_type": "stream",
          "text": [
            "(1660, 1)\n",
            "(1661,)\n"
          ],
          "name": "stdout"
        }
      ]
    },
    {
      "cell_type": "code",
      "metadata": {
        "id": "TGNfUH-mwYty",
        "colab_type": "code",
        "outputId": "1f09138a-030e-4361-8f5a-44325d2f5176",
        "colab": {
          "base_uri": "https://localhost:8080/",
          "height": 279
        }
      },
      "source": [
        "#For beta_0\n",
        "\n",
        "plt.plot(predicted_value, color='red')\n",
        "plt.plot(input_data[lookback:test_size + (2*lookback),0],color = 'green')\n",
        "plt.xlabel(\"Date\")\n",
        "plt.ylabel(\"beta 0\")\n",
        "\n",
        "plt.show()"
      ],
      "execution_count": 0,
      "outputs": [
        {
          "output_type": "display_data",
          "data": {
            "image/png": "[encoded data removed]",
            "text/plain": [
              "<Figure size 432x288 with 1 Axes>"
            ]
          },
          "metadata": {
            "tags": []
          }
        }
      ]
    },
    {
      "cell_type": "code",
      "metadata": {
        "id": "UHIZCd1rwjnn",
        "colab_type": "code",
        "outputId": "77410c11-72b1-454e-9756-544425df19c0",
        "colab": {
          "base_uri": "https://localhost:8080/",
          "height": 279
        }
      },
      "source": [
        "#For beta_1\n",
        "\n",
        "plt.plot(predicted_value, color='red')\n",
        "plt.plot(input_data[lookback:test_size + (2*lookback),1],color = 'green')\n",
        "plt.xlabel(\"Date\")\n",
        "plt.ylabel(\"beta 1\")\n",
        "\n",
        "plt.show()"
      ],
      "execution_count": 0,
      "outputs": [
        {
          "output_type": "display_data",
          "data": {
            "image/png": "[encoded data removed]",
            "text/plain": [
              "<Figure size 432x288 with 1 Axes>"
            ]
          },
          "metadata": {
            "tags": []
          }
        }
      ]
    },
    {
      "cell_type": "code",
      "metadata": {
        "id": "L5qNL6P8xQqX",
        "colab_type": "code",
        "outputId": "c96d0591-e5d0-4d5d-d30b-ccacea4ec899",
        "colab": {
          "base_uri": "https://localhost:8080/",
          "height": 279
        }
      },
      "source": [
        "#For beta_2\n",
        "\n",
        "plt.plot(predicted_value, color='red')\n",
        "plt.plot(input_data[lookback:test_size + lookback,2],color = 'green')\n",
        "plt.xlabel(\"Date\")\n",
        "plt.ylabel(\"beta 2\")\n",
        "\n",
        "plt.show()"
      ],
      "execution_count": 0,
      "outputs": [
        {
          "output_type": "display_data",
          "data": {
            "image/png": "[encoded data removed]",
            "text/plain": [
              "<Figure size 432x288 with 1 Axes>"
            ]
          },
          "metadata": {
            "tags": []
          }
        }
      ]
    },
    {
      "cell_type": "code",
      "metadata": {
        "id": "7dQlqdd-xkCQ",
        "colab_type": "code",
        "outputId": "06a68fcb-7571-4cd5-e471-8419524a5163",
        "colab": {
          "base_uri": "https://localhost:8080/",
          "height": 34
        }
      },
      "source": [
        ""
      ],
      "execution_count": 0,
      "outputs": [
        {
          "output_type": "stream",
          "text": [
            "(5485,)\n"
          ],
          "name": "stdout"
        }
      ]
    },
    {
      "cell_type": "code",
      "metadata": {
        "id": "lFcBXaIb3y0c",
        "colab_type": "code",
        "colab": {}
      },
      "source": [
        ""
      ],
      "execution_count": 0,
      "outputs": []
    }
  ]
}